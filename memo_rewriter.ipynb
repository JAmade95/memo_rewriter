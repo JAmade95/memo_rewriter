{
  "nbformat": 4,
  "nbformat_minor": 0,
  "metadata": {
    "colab": {
      "provenance": [],
      "authorship_tag": "ABX9TyNzj3/a5AIE19WAYmVeoS8H",
      "include_colab_link": true
    },
    "kernelspec": {
      "name": "python3",
      "display_name": "Python 3"
    },
    "language_info": {
      "name": "python"
    }
  },
  "cells": [
    {
      "cell_type": "markdown",
      "metadata": {
        "id": "view-in-github",
        "colab_type": "text"
      },
      "source": [
        "<a href=\"https://colab.research.google.com/github/JAmade95/memo_rewriter/blob/dev/memo_rewriter.ipynb\" target=\"_parent\"><img src=\"https://colab.research.google.com/assets/colab-badge.svg\" alt=\"Open In Colab\"/></a>"
      ]
    },
    {
      "cell_type": "code",
      "execution_count": 1,
      "metadata": {
        "id": "PBgIrgszdW70"
      },
      "outputs": [],
      "source": [
        "import datetime"
      ]
    },
    {
      "cell_type": "code",
      "source": [
        "def rewrite_memo(draft_memo: str) -> str:\n",
        "    tl_dr = \"TL;DR: Please review the memo.\"\n",
        "    polished_body = draft_memo.strip().capitalize()\n",
        "    suggested_signatory = \"Suggested signatory: [Insert Name]\"\n",
        "    return f\"{tl_dr}\\n\\n{polished_body}\\n\\n{suggested_signatory}\""
      ],
      "metadata": {
        "id": "ndfWEdERT4Xb"
      },
      "execution_count": 2,
      "outputs": []
    },
    {
      "cell_type": "code",
      "source": [
        "sample_input_1 = \"vendor X, 300,000, vendor Y, 200000. choose fast.\"\n",
        "sample_input_2 = \"CEO sign-off needed. this is 3-year contract and price looks ok. no sample delivered.\"\n",
        "\n",
        "print(rewrite_memo(sample_input_1))\n",
        "print(\"\\n---\\n\")\n",
        "print(rewrite_memo(sample_input_2))"
      ],
      "metadata": {
        "colab": {
          "base_uri": "https://localhost:8080/"
        },
        "id": "0e8m3qW_T8fD",
        "outputId": "35d6fb46-c582-4475-a628-d5b19e20adc5"
      },
      "execution_count": 3,
      "outputs": [
        {
          "output_type": "stream",
          "name": "stdout",
          "text": [
            "TL;DR: Please review the memo.\n",
            "\n",
            "Vendor x, 300,000, vendor y, 200000. choose fast.\n",
            "\n",
            "Suggested signatory: [Insert Name]\n",
            "\n",
            "---\n",
            "\n",
            "TL;DR: Please review the memo.\n",
            "\n",
            "Ceo sign-off needed. this is 3-year contract and price looks ok. no sample delivered.\n",
            "\n",
            "Suggested signatory: [Insert Name]\n"
          ]
        }
      ]
    },
    {
      "cell_type": "code",
      "source": [],
      "metadata": {
        "id": "23bxTKepT-9f"
      },
      "execution_count": null,
      "outputs": []
    }
  ]
}